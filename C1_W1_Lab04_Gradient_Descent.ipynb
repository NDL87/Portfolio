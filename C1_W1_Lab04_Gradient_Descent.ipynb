{
  "nbformat": 4,
  "nbformat_minor": 0,
  "metadata": {
    "colab": {
      "provenance": [],
      "authorship_tag": "ABX9TyP9HE9YLlpOfVmwIOqbg/Ih",
      "include_colab_link": true
    },
    "kernelspec": {
      "name": "python3",
      "display_name": "Python 3"
    },
    "language_info": {
      "name": "python"
    }
  },
  "cells": [
    {
      "cell_type": "markdown",
      "metadata": {
        "id": "view-in-github",
        "colab_type": "text"
      },
      "source": [
        "<a href=\"https://colab.research.google.com/github/NDL87/Portfolio/blob/main/C1_W1_Lab04_Gradient_Descent.ipynb\" target=\"_parent\"><img src=\"https://colab.research.google.com/assets/colab-badge.svg\" alt=\"Open In Colab\"/></a>"
      ]
    },
    {
      "cell_type": "code",
      "execution_count": 44,
      "metadata": {
        "id": "sXnnjPW49xa_"
      },
      "outputs": [],
      "source": [
        "import math, copy\n",
        "import numpy as np\n",
        "import matplotlib.pyplot as plt\n",
        "plt.style.use('./deeplearning.mplstyle')\n",
        "from lab_utils_uni import plt_house_x, plt_contour_wgrad, plt_divergence, plt_gradients"
      ]
    },
    {
      "cell_type": "markdown",
      "source": [
        "<a name=\"toc_40291_2\"></a>\n",
        "# Problem Statement\n",
        "\n",
        "Let's use the same two data points as before - a house with 1000 square feet sold for \\\\$300,000 and a house with 2000 square feet sold for \\\\$500,000.\n",
        "\n",
        "| Size (1000 sqft)     | Price (1000s of dollars) |\n",
        "| ----------------| ------------------------ |\n",
        "| 1               | 300                      |\n",
        "| 2               | 500                      |"
      ],
      "metadata": {
        "id": "Am6ixYEj_HMY"
      }
    },
    {
      "cell_type": "code",
      "source": [
        "x_train = np.array([1.0, 2.0])\n",
        "y_train = np.array([300, 500])"
      ],
      "metadata": {
        "id": "PCsYfDiz_O8f"
      },
      "execution_count": 45,
      "outputs": []
    },
    {
      "cell_type": "code",
      "source": [
        "def cost_function(x, y, w, b):\n",
        "  m = len(x)\n",
        "  cost = 0\n",
        "  for i in range(m):\n",
        "    f_wb = w*x[i] + b\n",
        "    cost = cost + (f_wb - y[i])**2\n",
        "  cost = 1/(2*m)*cost\n",
        "  print(f\"w = {w}, b = {b}, cost = {cost}\")\n",
        "  return cost\n"
      ],
      "metadata": {
        "id": "ZYmC914-AOgw"
      },
      "execution_count": 46,
      "outputs": []
    },
    {
      "cell_type": "code",
      "source": [
        "def compute_grad(x, y, w, b):\n",
        "  m = len(x)\n",
        "  dj_dw, dj_db = 0, 0\n",
        "  for i in range(m):\n",
        "    f_wb = w*x[i] + b\n",
        "    dj_dw += (f_wb - y[i])*x[i]\n",
        "    dj_db += f_wb - y[i]\n",
        "  dj_dw = (1/m)*dj_dw\n",
        "  dj_db = (1/m)*dj_db\n",
        "  return dj_dw, dj_db"
      ],
      "metadata": {
        "id": "mEvDCjZmCIPL"
      },
      "execution_count": 47,
      "outputs": []
    },
    {
      "cell_type": "code",
      "source": [
        "def grad_decsent(x, y, w, b, alpha, iters):\n",
        "  cost = cost_function(x, y, w, b)\n",
        "  for i in range(iters):\n",
        "    dj_dw, dj_db = compute_grad(x, y, w , b)\n",
        "    w = w - alpha*dj_dw\n",
        "    b = b - alpha*dj_db\n",
        "  return w, b"
      ],
      "metadata": {
        "id": "wf6UpvcDFlpl"
      },
      "execution_count": 50,
      "outputs": []
    },
    {
      "cell_type": "code",
      "source": [
        "alpha = 0.001\n",
        "iters = 10000\n",
        "w, b = -10, -10\n",
        "#cost = cost_function(x_train, y_train, w, b)\n",
        "#print(cost)\n",
        "cost = cost_function(x_train, y_train, w, b)\n",
        "w, b = grad_decsent(x_train, y_train, w, b, alpha, iters)\n",
        "cost = cost_function(x_train, y_train, w, b)"
      ],
      "metadata": {
        "colab": {
          "base_uri": "https://localhost:8080/"
        },
        "id": "iA_ibFe2gRG0",
        "outputId": "8aeb4d33-1416-452a-ad9c-bd46b7452624"
      },
      "execution_count": 64,
      "outputs": [
        {
          "output_type": "stream",
          "name": "stdout",
          "text": [
            "w = -10, b = -10, cost = 95825.0\n",
            "w = -10, b = -10, cost = 95825.0\n",
            "w = 195.73348908078137, b = 106.90335968066739, cost = 2.4021925348052164\n"
          ]
        }
      ]
    }
  ]
}